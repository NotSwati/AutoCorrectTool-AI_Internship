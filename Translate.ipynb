{
 "cells": [
  {
   "cell_type": "code",
   "execution_count": 22,
   "id": "0745425a-b53c-4dca-a9f4-bd7e7b0de1fd",
   "metadata": {},
   "outputs": [
    {
     "name": "stdout",
     "output_type": "stream",
     "text": [
      "Requirement already satisfied: translate in c:\\users\\swati\\appdata\\local\\programs\\python\\python311\\lib\\site-packages (3.6.1)\n",
      "Requirement already satisfied: click in c:\\users\\swati\\appdata\\local\\programs\\python\\python311\\lib\\site-packages (from translate) (8.1.6)\n",
      "Requirement already satisfied: lxml in c:\\users\\swati\\appdata\\local\\programs\\python\\python311\\lib\\site-packages (from translate) (4.9.3)\n",
      "Requirement already satisfied: requests in c:\\users\\swati\\appdata\\local\\programs\\python\\python311\\lib\\site-packages (from translate) (2.31.0)\n",
      "Requirement already satisfied: libretranslatepy==2.1.1 in c:\\users\\swati\\appdata\\local\\programs\\python\\python311\\lib\\site-packages (from translate) (2.1.1)\n",
      "Requirement already satisfied: colorama in c:\\users\\swati\\appdata\\local\\programs\\python\\python311\\lib\\site-packages (from click->translate) (0.4.6)\n",
      "Requirement already satisfied: charset-normalizer<4,>=2 in c:\\users\\swati\\appdata\\local\\programs\\python\\python311\\lib\\site-packages (from requests->translate) (3.2.0)\n",
      "Requirement already satisfied: idna<4,>=2.5 in c:\\users\\swati\\appdata\\local\\programs\\python\\python311\\lib\\site-packages (from requests->translate) (3.4)\n",
      "Requirement already satisfied: urllib3<3,>=1.21.1 in c:\\users\\swati\\appdata\\local\\programs\\python\\python311\\lib\\site-packages (from requests->translate) (2.0.4)\n",
      "Requirement already satisfied: certifi>=2017.4.17 in c:\\users\\swati\\appdata\\local\\programs\\python\\python311\\lib\\site-packages (from requests->translate) (2023.7.22)\n",
      "Note: you may need to restart the kernel to use updated packages.\n"
     ]
    }
   ],
   "source": [
    "pip install translate"
   ]
  },
  {
   "cell_type": "code",
   "execution_count": 24,
   "id": "1cdee19f-03bf-417e-905f-4e552fb320b3",
   "metadata": {},
   "outputs": [
    {
     "name": "stdin",
     "output_type": "stream",
     "text": [
      "Enter a sentence you wanna translate :  How are you doing on this fine day?\n",
      "Enter the language your text is in :  English\n",
      "Enter the language you wanna translate your text to :  Spanish\n"
     ]
    },
    {
     "name": "stdout",
     "output_type": "stream",
     "text": [
      "\n",
      "The translation of \"How are you doing on this fine day?\" in Spanish is \"¿Cómo te va en este hermoso día?\"\n"
     ]
    }
   ],
   "source": [
    "from translate import Translator\n",
    "\n",
    "text = input(\"Enter a sentence you wanna translate : \")\n",
    "f_lang = input(\"Enter the language your text is in : \")\n",
    "t_lang = input(\"Enter the language you wanna translate your text to : \")\n",
    "\n",
    "translator = Translator(from_lang = f_lang , to_lang = t_lang)\n",
    "translation = translator.translate(text)\n",
    "\n",
    "print(f'\\nThe translation of \"{text}\" in {t_lang} is \"{translation}\"')"
   ]
  },
  {
   "cell_type": "code",
   "execution_count": null,
   "id": "c7942ba7-6f6e-4c17-adc0-b0925205ab6c",
   "metadata": {},
   "outputs": [],
   "source": []
  }
 ],
 "metadata": {
  "kernelspec": {
   "display_name": "Python 3 (ipykernel)",
   "language": "python",
   "name": "python3"
  },
  "language_info": {
   "codemirror_mode": {
    "name": "ipython",
    "version": 3
   },
   "file_extension": ".py",
   "mimetype": "text/x-python",
   "name": "python",
   "nbconvert_exporter": "python",
   "pygments_lexer": "ipython3",
   "version": "3.11.4"
  }
 },
 "nbformat": 4,
 "nbformat_minor": 5
}
