{
 "cells": [
  {
   "cell_type": "code",
   "execution_count": 37,
   "id": "fc12009b-cfb1-45c4-8faa-f6d3a9722a95",
   "metadata": {},
   "outputs": [
    {
     "name": "stdout",
     "output_type": "stream",
     "text": [
      "Requirement already satisfied: nltk in c:\\users\\swati\\appdata\\local\\programs\\python\\python311\\lib\\site-packages (3.8.1)\n",
      "Requirement already satisfied: click in c:\\users\\swati\\appdata\\local\\programs\\python\\python311\\lib\\site-packages (from nltk) (8.1.6)\n",
      "Requirement already satisfied: joblib in c:\\users\\swati\\appdata\\local\\programs\\python\\python311\\lib\\site-packages (from nltk) (1.3.1)\n",
      "Requirement already satisfied: regex>=2021.8.3 in c:\\users\\swati\\appdata\\local\\programs\\python\\python311\\lib\\site-packages (from nltk) (2023.6.3)\n",
      "Requirement already satisfied: tqdm in c:\\users\\swati\\appdata\\local\\programs\\python\\python311\\lib\\site-packages (from nltk) (4.65.0)\n",
      "Requirement already satisfied: colorama in c:\\users\\swati\\appdata\\local\\programs\\python\\python311\\lib\\site-packages (from click->nltk) (0.4.6)\n"
     ]
    }
   ],
   "source": [
    "!pip install nltk"
   ]
  },
  {
   "cell_type": "code",
   "execution_count": 38,
   "id": "23f3d24c-57a1-4be5-8d31-0c5dac596599",
   "metadata": {},
   "outputs": [],
   "source": [
    "import nltk\n",
    "from nltk.corpus import words\n",
    "from nltk.metrics.distance import edit_distance\n",
    "from heapq import nlargest"
   ]
  },
  {
   "cell_type": "code",
   "execution_count": 39,
   "id": "fd20392f-7941-41fa-b956-63b0ed76478b",
   "metadata": {},
   "outputs": [
    {
     "name": "stderr",
     "output_type": "stream",
     "text": [
      "[nltk_data] Downloading package words to\n",
      "[nltk_data]     C:\\Users\\swati\\AppData\\Roaming\\nltk_data...\n",
      "[nltk_data]   Package words is already up-to-date!\n"
     ]
    }
   ],
   "source": [
    "nltk.download('words')\n",
    "word_list = words.words()"
   ]
  },
  {
   "cell_type": "code",
   "execution_count": 40,
   "id": "7b4783c6-b601-478c-8280-84ea86d4ea6b",
   "metadata": {},
   "outputs": [],
   "source": [
    "def auto_correct(ip_word):\n",
    "    def word_similarity(word):\n",
    "        return -edit_distance(ip_word, word)\n",
    "\n",
    "    sug_words = nlargest(5, word_list, key=word_similarity)\n",
    "    return sug_words"
   ]
  },
  {
   "cell_type": "code",
   "execution_count": 41,
   "id": "f31b2fb8-7491-482b-b9f4-a3caf108d120",
   "metadata": {},
   "outputs": [
    {
     "name": "stdin",
     "output_type": "stream",
     "text": [
      "Enter a word :  helo\n"
     ]
    },
    {
     "name": "stdout",
     "output_type": "stream",
     "text": [
      "Suggested words:\n",
      "1. halo\n",
      "2. hele\n",
      "3. helio\n",
      "4. hell\n",
      "5. hello\n"
     ]
    }
   ],
   "source": [
    "w = input(\"Enter a word : \")\n",
    "sug = auto_correct(w)\n",
    "#print(f\"Input word: {w}\")\n",
    "print(\"Suggested words:\")\n",
    "for i, word in enumerate(sug, 1):\n",
    "    print(f\"{i}. {word}\")"
   ]
  },
  {
   "cell_type": "code",
   "execution_count": null,
   "id": "6a4cc0a7-b20d-40b9-8df6-5f10a3a70d20",
   "metadata": {},
   "outputs": [],
   "source": []
  }
 ],
 "metadata": {
  "kernelspec": {
   "display_name": "Python 3 (ipykernel)",
   "language": "python",
   "name": "python3"
  },
  "language_info": {
   "codemirror_mode": {
    "name": "ipython",
    "version": 3
   },
   "file_extension": ".py",
   "mimetype": "text/x-python",
   "name": "python",
   "nbconvert_exporter": "python",
   "pygments_lexer": "ipython3",
   "version": "3.11.4"
  }
 },
 "nbformat": 4,
 "nbformat_minor": 5
}
